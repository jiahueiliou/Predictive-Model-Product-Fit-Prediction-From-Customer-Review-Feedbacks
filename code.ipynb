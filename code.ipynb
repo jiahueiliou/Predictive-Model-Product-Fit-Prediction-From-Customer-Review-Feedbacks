{
  "cells": [
    {
      "cell_type": "code",
      "execution_count": null,
      "metadata": {
        "id": "uISXzz97w0Vj"
      },
      "outputs": [],
      "source": [
        "import gzip\n",
        "from collections import defaultdict\n",
        "from sklearn import svm\n",
        "import numpy\n",
        "import random\n",
        "import string\n",
        "from sklearn import linear_model\n",
        "import pandas as pd\n",
        "from numpy.random import normal\n",
        "from sklearn.model_selection import GridSearchCV\n",
        "import scipy\n",
        "import tensorflow as tf\n",
        "from fastFM import als\n",
        "from scipy.spatial import distance\n",
        "import json"
      ]
    },
    {
      "cell_type": "code",
      "execution_count": null,
      "metadata": {
        "id": "l1J29xCE5ZCP"
      },
      "outputs": [],
      "source": [
        "FILEPATH = 'renttherunway_final_data.json.gz'\n",
        "META = 'endomondoMeta.json.gz'"
      ]
    },
    {
      "cell_type": "code",
      "execution_count": null,
      "metadata": {
        "id": "cSqho6tV5Y_w"
      },
      "outputs": [],
      "source": [
        "def readJSON(path):\n",
        "    with gzip.open(path, 'rt', encoding='utf-8') as f:\n",
        "        f.readline()\n",
        "        for line in f:\n",
        "            d = json.loads(line)\n",
        "            yield d"
      ]
    },
    {
      "cell_type": "code",
      "execution_count": null,
      "metadata": {
        "id": "q5BJtRKM5Y6l"
      },
      "outputs": [],
      "source": [
        "raw = []\n",
        "for l in readJSON(FILEPATH):\n",
        "    raw.append(l)"
      ]
    },
    {
      "cell_type": "code",
      "execution_count": null,
      "metadata": {
        "colab": {
          "base_uri": "https://localhost:8080/"
        },
        "id": "tS2Jlw80bxkk",
        "outputId": "c9136574-4f25-4e2f-e033-55486703482c"
      },
      "outputs": [
        {
          "data": {
            "text/plain": [
              "list"
            ]
          },
          "execution_count": 74,
          "metadata": {},
          "output_type": "execute_result"
        }
      ],
      "source": [
        "type(raw)"
      ]
    },
    {
      "cell_type": "code",
      "execution_count": null,
      "metadata": {
        "id": "w41twUACQD3q"
      },
      "outputs": [],
      "source": [
        "raw_dict = [item for item in raw]\n",
        "\n",
        "df = pd.DataFrame(raw_dict)"
      ]
    },
    {
      "cell_type": "code",
      "execution_count": null,
      "metadata": {
        "id": "8HolDOSnQD1O"
      },
      "outputs": [],
      "source": [
        "df = df.drop([\"review_text\", \"review_summary\", \"review_date\"], axis = 1)"
      ]
    },
    {
      "cell_type": "code",
      "execution_count": null,
      "metadata": {
        "colab": {
          "base_uri": "https://localhost:8080/"
        },
        "id": "eOlTCpieQDyg",
        "outputId": "4d3d8899-4925-4591-90b8-e574ce90a7b5"
      },
      "outputs": [
        {
          "data": {
            "text/plain": [
              "fit               0\n",
              "user_id           0\n",
              "bust size     18411\n",
              "item_id           0\n",
              "weight        29982\n",
              "rating           82\n",
              "rented for       10\n",
              "body type     14637\n",
              "category          0\n",
              "height          677\n",
              "size              0\n",
              "age             960\n",
              "dtype: int64"
            ]
          },
          "execution_count": 37,
          "metadata": {},
          "output_type": "execute_result"
        }
      ],
      "source": [
        "na_value = df.isna()\n",
        "na_sum = na_value.sum(axis = 0)\n",
        "na_sum"
      ]
    },
    {
      "cell_type": "code",
      "execution_count": null,
      "metadata": {
        "id": "nMVudzJsQDvn"
      },
      "outputs": [],
      "source": [
        "# for categorical data, use mode to replace the null value\n",
        "bustsize_mode = df['bust size'].mode()[0]\n",
        "bodytype_mode = df['body type'].mode()[0]\n",
        "df['bust size'].fillna(bustsize_mode, inplace=True)\n",
        "df['body type'].fillna(bodytype_mode, inplace=True)"
      ]
    },
    {
      "cell_type": "code",
      "execution_count": null,
      "metadata": {
        "colab": {
          "base_uri": "https://localhost:8080/"
        },
        "id": "V6gqv7rOQDtE",
        "outputId": "559c68e1-7f9f-421f-99c8-c9fb7f7818b8"
      },
      "outputs": [
        {
          "data": {
            "text/plain": [
              "lbs    162561\n",
              "dtype: int64"
            ]
          },
          "execution_count": 39,
          "metadata": {},
          "output_type": "execute_result"
        }
      ],
      "source": [
        "# make sure weight column has same unit\n",
        "df[\"weight\"].str.extract('\\d+(...)').value_counts()"
      ]
    },
    {
      "cell_type": "code",
      "execution_count": null,
      "metadata": {
        "id": "i_M8iiMdQDqd"
      },
      "outputs": [],
      "source": [
        "# for numerical data, use global mean to replace the null value\n",
        "df[\"weight\"] = df['weight'].str.extract('(\\d+)').astype(float)\n",
        "weight_mean = df[\"weight\"].mean()\n",
        "df[\"weight\"].fillna(weight_mean, inplace=True)\n",
        "\n",
        "df[\"age\"] = df[\"age\"].astype(float)\n",
        "age_mean = df[\"age\"].mean()\n",
        "df[\"age\"].fillna(age_mean, inplace=True)"
      ]
    },
    {
      "cell_type": "code",
      "execution_count": null,
      "metadata": {
        "id": "5PJUYyLtQDn8"
      },
      "outputs": [],
      "source": [
        "def feet_inches_to_cm(s):\n",
        "    # Check if 's' is a string\n",
        "    if isinstance(s, str):\n",
        "        parts = s.split(\"'\")\n",
        "        feet = int(parts[0])\n",
        "        inches = int(parts[1].replace('\"', '').strip())\n",
        "        return (feet * 30.48) + (inches * 2.54)\n",
        "    else: # if 's' is not a string\n",
        "        return None"
      ]
    },
    {
      "cell_type": "code",
      "execution_count": null,
      "metadata": {
        "id": "PsuKDblnQRgq"
      },
      "outputs": [],
      "source": [
        "df['height_cm'] = df['height'].apply(feet_inches_to_cm)\n",
        "\n",
        "df[\"height_cm\"] = df[\"height_cm\"].astype(float)\n",
        "height_mean = df[\"height_cm\"].mean()\n",
        "df[\"height_cm\"].fillna(height_mean, inplace=True)"
      ]
    },
    {
      "cell_type": "code",
      "execution_count": null,
      "metadata": {
        "id": "7iPAmuJLQReD"
      },
      "outputs": [],
      "source": [
        "df = df.drop(\"height\", axis = 1)"
      ]
    },
    {
      "cell_type": "code",
      "execution_count": null,
      "metadata": {
        "colab": {
          "base_uri": "https://localhost:8080/"
        },
        "id": "fxnlOslVQRbm",
        "outputId": "50ea3c13-d163-4d8b-e6b0-0515dd7eee7f"
      },
      "outputs": [
        {
          "data": {
            "text/plain": [
              "fit            0\n",
              "user_id        0\n",
              "bust size      0\n",
              "item_id        0\n",
              "weight         0\n",
              "rating        82\n",
              "rented for    10\n",
              "body type      0\n",
              "category       0\n",
              "size           0\n",
              "age            0\n",
              "height_cm      0\n",
              "dtype: int64"
            ]
          },
          "execution_count": 44,
          "metadata": {},
          "output_type": "execute_result"
        }
      ],
      "source": [
        "na_value = df.isna()\n",
        "na_sum = na_value.sum(axis = 0)\n",
        "na_sum"
      ]
    },
    {
      "cell_type": "code",
      "execution_count": null,
      "metadata": {
        "id": "8Sn4zHewQRZI"
      },
      "outputs": [],
      "source": [
        "data = df.dropna()"
      ]
    },
    {
      "cell_type": "code",
      "execution_count": null,
      "metadata": {
        "colab": {
          "base_uri": "https://localhost:8080/"
        },
        "id": "zRuKQnUOQRWz",
        "outputId": "24e15dc2-5934-4bc8-d819-60d038dfd3ce"
      },
      "outputs": [
        {
          "name": "stderr",
          "output_type": "stream",
          "text": [
            "<ipython-input-46-9a9a8a73c235>:1: SettingWithCopyWarning: \n",
            "A value is trying to be set on a copy of a slice from a DataFrame.\n",
            "Try using .loc[row_indexer,col_indexer] = value instead\n",
            "\n",
            "See the caveats in the documentation: https://pandas.pydata.org/pandas-docs/stable/user_guide/indexing.html#returning-a-view-versus-a-copy\n",
            "  data[\"fit\"] = data[\"fit\"].astype(\"category\")\n",
            "<ipython-input-46-9a9a8a73c235>:2: SettingWithCopyWarning: \n",
            "A value is trying to be set on a copy of a slice from a DataFrame.\n",
            "Try using .loc[row_indexer,col_indexer] = value instead\n",
            "\n",
            "See the caveats in the documentation: https://pandas.pydata.org/pandas-docs/stable/user_guide/indexing.html#returning-a-view-versus-a-copy\n",
            "  data[\"bust size\"] = data[\"bust size\"].astype(\"category\")\n",
            "<ipython-input-46-9a9a8a73c235>:3: SettingWithCopyWarning: \n",
            "A value is trying to be set on a copy of a slice from a DataFrame.\n",
            "Try using .loc[row_indexer,col_indexer] = value instead\n",
            "\n",
            "See the caveats in the documentation: https://pandas.pydata.org/pandas-docs/stable/user_guide/indexing.html#returning-a-view-versus-a-copy\n",
            "  data[\"rating\"] = data[\"rating\"].astype(float)\n",
            "<ipython-input-46-9a9a8a73c235>:4: SettingWithCopyWarning: \n",
            "A value is trying to be set on a copy of a slice from a DataFrame.\n",
            "Try using .loc[row_indexer,col_indexer] = value instead\n",
            "\n",
            "See the caveats in the documentation: https://pandas.pydata.org/pandas-docs/stable/user_guide/indexing.html#returning-a-view-versus-a-copy\n",
            "  data[\"rented for\"] = data[\"rented for\"].astype(\"category\")\n",
            "<ipython-input-46-9a9a8a73c235>:5: SettingWithCopyWarning: \n",
            "A value is trying to be set on a copy of a slice from a DataFrame.\n",
            "Try using .loc[row_indexer,col_indexer] = value instead\n",
            "\n",
            "See the caveats in the documentation: https://pandas.pydata.org/pandas-docs/stable/user_guide/indexing.html#returning-a-view-versus-a-copy\n",
            "  data[\"body type\"] = data[\"body type\"].astype(\"category\")\n",
            "<ipython-input-46-9a9a8a73c235>:6: SettingWithCopyWarning: \n",
            "A value is trying to be set on a copy of a slice from a DataFrame.\n",
            "Try using .loc[row_indexer,col_indexer] = value instead\n",
            "\n",
            "See the caveats in the documentation: https://pandas.pydata.org/pandas-docs/stable/user_guide/indexing.html#returning-a-view-versus-a-copy\n",
            "  data[\"category\"] = data[\"category\"].astype(\"category\")\n"
          ]
        }
      ],
      "source": [
        "data[\"fit\"] = data[\"fit\"].astype(\"category\")\n",
        "data[\"bust size\"] = data[\"bust size\"].astype(\"category\")\n",
        "data[\"rating\"] = data[\"rating\"].astype(float)\n",
        "data[\"rented for\"] = data[\"rented for\"].astype(\"category\")\n",
        "data[\"body type\"] = data[\"body type\"].astype(\"category\")\n",
        "data[\"category\"] = data[\"category\"].astype(\"category\")"
      ]
    },
    {
      "cell_type": "code",
      "execution_count": null,
      "metadata": {
        "id": "XqyiC7nZQDlN"
      },
      "outputs": [],
      "source": [
        "data = data.to_dict(orient='records')"
      ]
    },
    {
      "cell_type": "code",
      "execution_count": null,
      "metadata": {
        "colab": {
          "base_uri": "https://localhost:8080/"
        },
        "id": "_i9mmyvdRgqH",
        "outputId": "24e76098-0aec-4804-a7bc-da471dbd4444"
      },
      "outputs": [
        {
          "data": {
            "text/plain": [
              "{'fit': 'fit',\n",
              " 'user_id': '273551',\n",
              " 'bust size': '34b',\n",
              " 'item_id': '153475',\n",
              " 'weight': 132.0,\n",
              " 'rating': 10.0,\n",
              " 'rented for': 'other',\n",
              " 'body type': 'straight & narrow',\n",
              " 'category': 'gown',\n",
              " 'size': 12,\n",
              " 'age': 36.0,\n",
              " 'height_cm': 167.64000000000001}"
            ]
          },
          "execution_count": 50,
          "metadata": {},
          "output_type": "execute_result"
        }
      ],
      "source": [
        "data[0]"
      ]
    },
    {
      "cell_type": "code",
      "execution_count": null,
      "metadata": {
        "id": "c91RSJk85Y3_"
      },
      "outputs": [],
      "source": [
        "random.shuffle(data)"
      ]
    },
    {
      "cell_type": "code",
      "execution_count": null,
      "metadata": {
        "id": "lYJq8mB15Yy-"
      },
      "outputs": [],
      "source": [
        "userIDs,itemIDs = {},{}\n",
        "\n",
        "for d in data:\n",
        "    u,i = d['user_id'],d['item_id']\n",
        "    if not u in userIDs: userIDs[u] = len(userIDs)\n",
        "    if not i in itemIDs: itemIDs[i] = len(itemIDs)\n",
        "\n",
        "nUsers,nItems = len(userIDs),len(itemIDs)"
      ]
    },
    {
      "cell_type": "code",
      "execution_count": null,
      "metadata": {
        "colab": {
          "base_uri": "https://localhost:8080/"
        },
        "id": "WTFZ0ZHg5YwR",
        "outputId": "6e0a8a0d-7945-4dc8-81b3-034bffa05ade"
      },
      "outputs": [
        {
          "data": {
            "text/plain": [
              "(105504, 5850)"
            ]
          },
          "execution_count": 53,
          "metadata": {},
          "output_type": "execute_result"
        }
      ],
      "source": [
        "nUsers,nItems"
      ]
    },
    {
      "cell_type": "code",
      "execution_count": null,
      "metadata": {
        "id": "ZYNKq3TR5Ytz"
      },
      "outputs": [],
      "source": [
        "X = scipy.sparse.lil_matrix((len(data), nUsers + nItems))"
      ]
    },
    {
      "cell_type": "code",
      "execution_count": null,
      "metadata": {
        "id": "HS5I8-qf5YrM"
      },
      "outputs": [],
      "source": [
        "for i in range(len(data)):\n",
        "    user = userIDs[data[i]['user_id']]\n",
        "    item = itemIDs[data[i]['item_id']]\n",
        "    X[i,user] = 1 # One-hot encoding of user\n",
        "    X[i,nUsers + item] = 1 # One-hot encoding of item"
      ]
    },
    {
      "cell_type": "code",
      "execution_count": null,
      "metadata": {
        "id": "Tas5IpDw5Yom"
      },
      "outputs": [],
      "source": [
        "y = numpy.array([d['rating'] for d in data])\n"
      ]
    },
    {
      "cell_type": "code",
      "execution_count": null,
      "metadata": {
        "id": "Sf86mFCF5Ymb"
      },
      "outputs": [],
      "source": [
        "fm = als.FMRegression(n_iter=1000, init_stdev=0.1, rank=5, l2_reg_w=0.1, l2_reg_V=0.5)"
      ]
    },
    {
      "cell_type": "code",
      "execution_count": null,
      "metadata": {
        "colab": {
          "base_uri": "https://localhost:8080/"
        },
        "id": "j8irbf3_UJ26",
        "outputId": "47a268f5-edca-45ac-b63c-9bf15d85b475"
      },
      "outputs": [
        {
          "data": {
            "text/plain": [
              "(192451, 111354)"
            ]
          },
          "execution_count": 60,
          "metadata": {},
          "output_type": "execute_result"
        }
      ],
      "source": [
        "X.shape"
      ]
    },
    {
      "cell_type": "code",
      "execution_count": null,
      "metadata": {
        "id": "NVOpPNmU4qBq"
      },
      "outputs": [],
      "source": [
        "X_train,y_train = X[:int(X.shape[0]*0.75)], y[:int(X.shape[0]*0.75)]\n",
        "X_test,y_test = X[int(X.shape[0]*0.75):], y[int(X.shape[0]*0.75):]"
      ]
    },
    {
      "cell_type": "code",
      "execution_count": null,
      "metadata": {
        "colab": {
          "base_uri": "https://localhost:8080/",
          "height": 75
        },
        "id": "vzS7NOyy6KX3",
        "outputId": "e0a571ca-f0b7-4c92-f785-88f5de2b7a0a"
      },
      "outputs": [
        {
          "data": {
            "text/html": [
              "<style>#sk-container-id-1 {color: black;background-color: white;}#sk-container-id-1 pre{padding: 0;}#sk-container-id-1 div.sk-toggleable {background-color: white;}#sk-container-id-1 label.sk-toggleable__label {cursor: pointer;display: block;width: 100%;margin-bottom: 0;padding: 0.3em;box-sizing: border-box;text-align: center;}#sk-container-id-1 label.sk-toggleable__label-arrow:before {content: \"▸\";float: left;margin-right: 0.25em;color: #696969;}#sk-container-id-1 label.sk-toggleable__label-arrow:hover:before {color: black;}#sk-container-id-1 div.sk-estimator:hover label.sk-toggleable__label-arrow:before {color: black;}#sk-container-id-1 div.sk-toggleable__content {max-height: 0;max-width: 0;overflow: hidden;text-align: left;background-color: #f0f8ff;}#sk-container-id-1 div.sk-toggleable__content pre {margin: 0.2em;color: black;border-radius: 0.25em;background-color: #f0f8ff;}#sk-container-id-1 input.sk-toggleable__control:checked~div.sk-toggleable__content {max-height: 200px;max-width: 100%;overflow: auto;}#sk-container-id-1 input.sk-toggleable__control:checked~label.sk-toggleable__label-arrow:before {content: \"▾\";}#sk-container-id-1 div.sk-estimator input.sk-toggleable__control:checked~label.sk-toggleable__label {background-color: #d4ebff;}#sk-container-id-1 div.sk-label input.sk-toggleable__control:checked~label.sk-toggleable__label {background-color: #d4ebff;}#sk-container-id-1 input.sk-hidden--visually {border: 0;clip: rect(1px 1px 1px 1px);clip: rect(1px, 1px, 1px, 1px);height: 1px;margin: -1px;overflow: hidden;padding: 0;position: absolute;width: 1px;}#sk-container-id-1 div.sk-estimator {font-family: monospace;background-color: #f0f8ff;border: 1px dotted black;border-radius: 0.25em;box-sizing: border-box;margin-bottom: 0.5em;}#sk-container-id-1 div.sk-estimator:hover {background-color: #d4ebff;}#sk-container-id-1 div.sk-parallel-item::after {content: \"\";width: 100%;border-bottom: 1px solid gray;flex-grow: 1;}#sk-container-id-1 div.sk-label:hover label.sk-toggleable__label {background-color: #d4ebff;}#sk-container-id-1 div.sk-serial::before {content: \"\";position: absolute;border-left: 1px solid gray;box-sizing: border-box;top: 0;bottom: 0;left: 50%;z-index: 0;}#sk-container-id-1 div.sk-serial {display: flex;flex-direction: column;align-items: center;background-color: white;padding-right: 0.2em;padding-left: 0.2em;position: relative;}#sk-container-id-1 div.sk-item {position: relative;z-index: 1;}#sk-container-id-1 div.sk-parallel {display: flex;align-items: stretch;justify-content: center;background-color: white;position: relative;}#sk-container-id-1 div.sk-item::before, #sk-container-id-1 div.sk-parallel-item::before {content: \"\";position: absolute;border-left: 1px solid gray;box-sizing: border-box;top: 0;bottom: 0;left: 50%;z-index: -1;}#sk-container-id-1 div.sk-parallel-item {display: flex;flex-direction: column;z-index: 1;position: relative;background-color: white;}#sk-container-id-1 div.sk-parallel-item:first-child::after {align-self: flex-end;width: 50%;}#sk-container-id-1 div.sk-parallel-item:last-child::after {align-self: flex-start;width: 50%;}#sk-container-id-1 div.sk-parallel-item:only-child::after {width: 0;}#sk-container-id-1 div.sk-dashed-wrapped {border: 1px dashed gray;margin: 0 0.4em 0.5em 0.4em;box-sizing: border-box;padding-bottom: 0.4em;background-color: white;}#sk-container-id-1 div.sk-label label {font-family: monospace;font-weight: bold;display: inline-block;line-height: 1.2em;}#sk-container-id-1 div.sk-label-container {text-align: center;}#sk-container-id-1 div.sk-container {/* jupyter's `normalize.less` sets `[hidden] { display: none; }` but bootstrap.min.css set `[hidden] { display: none !important; }` so we also need the `!important` here to be able to override the default hidden behavior on the sphinx rendered scikit-learn.org. See: https://github.com/scikit-learn/scikit-learn/issues/21755 */display: inline-block !important;position: relative;}#sk-container-id-1 div.sk-text-repr-fallback {display: none;}</style><div id=\"sk-container-id-1\" class=\"sk-top-container\"><div class=\"sk-text-repr-fallback\"><pre>FMRegression(l2_reg_V=0.5, n_iter=1000, rank=5)</pre><b>In a Jupyter environment, please rerun this cell to show the HTML representation or trust the notebook. <br />On GitHub, the HTML representation is unable to render, please try loading this page with nbviewer.org.</b></div><div class=\"sk-container\" hidden><div class=\"sk-item\"><div class=\"sk-estimator sk-toggleable\"><input class=\"sk-toggleable__control sk-hidden--visually\" id=\"sk-estimator-id-1\" type=\"checkbox\" checked><label for=\"sk-estimator-id-1\" class=\"sk-toggleable__label sk-toggleable__label-arrow\">FMRegression</label><div class=\"sk-toggleable__content\"><pre>FMRegression(l2_reg_V=0.5, n_iter=1000, rank=5)</pre></div></div></div></div></div>"
            ],
            "text/plain": [
              "FMRegression(l2_reg_V=0.5, n_iter=1000, rank=5)"
            ]
          },
          "execution_count": 63,
          "metadata": {},
          "output_type": "execute_result"
        }
      ],
      "source": [
        "fm.fit(X_train, y_train)"
      ]
    },
    {
      "cell_type": "code",
      "execution_count": null,
      "metadata": {
        "id": "hQcUl07L6KVg"
      },
      "outputs": [],
      "source": [
        "y_pred = fm.predict(X_test)"
      ]
    },
    {
      "cell_type": "code",
      "execution_count": null,
      "metadata": {
        "colab": {
          "base_uri": "https://localhost:8080/"
        },
        "id": "tqEHsPxW6KTD",
        "outputId": "0cb8c8f6-fd84-40aa-fc05-9f208befe93e"
      },
      "outputs": [
        {
          "data": {
            "text/plain": [
              "array([ 8.8681674 , 10.45177521,  9.08202903,  8.33118282,  9.16214453,\n",
              "        9.3724546 ,  9.49521026,  9.64558977,  9.35608701, 10.16986752])"
            ]
          },
          "execution_count": 65,
          "metadata": {},
          "output_type": "execute_result"
        }
      ],
      "source": [
        "y_pred[:10]"
      ]
    },
    {
      "cell_type": "code",
      "execution_count": null,
      "metadata": {
        "colab": {
          "base_uri": "https://localhost:8080/"
        },
        "id": "A6zjpEfN6KQl",
        "outputId": "b1de843b-ab72-48e2-a339-9c2094ca5a54"
      },
      "outputs": [
        {
          "data": {
            "text/plain": [
              "array([10., 10., 10.,  6., 10., 10., 10., 10.,  8., 10.])"
            ]
          },
          "execution_count": 66,
          "metadata": {},
          "output_type": "execute_result"
        }
      ],
      "source": [
        "y_test[:10]"
      ]
    },
    {
      "cell_type": "code",
      "execution_count": null,
      "metadata": {
        "id": "fLH5Y9wJ6KOJ"
      },
      "outputs": [],
      "source": [
        "def MSE(predictions, labels):\n",
        "    differences = [(x-y)**2 for x,y in zip(predictions,labels)]\n",
        "    return sum(differences) / len(differences)"
      ]
    },
    {
      "cell_type": "code",
      "execution_count": null,
      "metadata": {
        "colab": {
          "base_uri": "https://localhost:8080/"
        },
        "id": "fx9U8m1K6KJi",
        "outputId": "aec764b9-3fbd-4d51-dc19-1aacc95daceb"
      },
      "outputs": [
        {
          "data": {
            "text/plain": [
              "2.5266488111047165"
            ]
          },
          "execution_count": 68,
          "metadata": {},
          "output_type": "execute_result"
        }
      ],
      "source": [
        "MSE(y_pred, y_test)"
      ]
    },
    {
      "cell_type": "code",
      "execution_count": null,
      "metadata": {
        "id": "iabv12r06KGf"
      },
      "outputs": [],
      "source": [
        "test = [10] * len(y_pred)"
      ]
    },
    {
      "cell_type": "code",
      "execution_count": null,
      "metadata": {
        "colab": {
          "base_uri": "https://localhost:8080/"
        },
        "id": "tQ97aFgAWX7E",
        "outputId": "d9131e89-d714-4316-82a4-f5e61c3b5d99"
      },
      "outputs": [
        {
          "data": {
            "text/plain": [
              "2.8218568785983"
            ]
          },
          "execution_count": 71,
          "metadata": {},
          "output_type": "execute_result"
        }
      ],
      "source": [
        "MSE(test, y_test)"
      ]
    }
  ],
  "metadata": {
    "colab": {
      "provenance": []
    },
    "kernelspec": {
      "display_name": "Python 3",
      "name": "python3"
    },
    "language_info": {
      "name": "python"
    }
  },
  "nbformat": 4,
  "nbformat_minor": 0
}
